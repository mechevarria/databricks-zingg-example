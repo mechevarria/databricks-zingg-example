{
 "cells": [
  {
   "cell_type": "markdown",
   "metadata": {
    "application/vnd.databricks.v1+cell": {
     "cellMetadata": {
      "byteLimit": 2048000,
      "rowLimit": 10000
     },
     "inputWidgets": {},
     "nuid": "afec4ed8-c1f7-4535-8aff-c438a59f2fd4",
     "showTitle": false,
     "tableResultSettingsMap": {},
     "title": ""
    }
   },
   "source": [
    "# Demo Notebook For Training and Running Zingg Entity Resolution Workflow on Databricks\n",
    "This notebook runs the Zingg Febrl Example on Databricks. \n",
    "Please refer to the \n",
    "1. [Zingg Python API](https://readthedocs.org/projects/zingg/) \n",
    "2. [Zingg Official Documentation](https://www.docs.zingg.ai) \n",
    "for details.\n",
    "\n",
    "Please ensure to follow these prerequisites\n",
    "1. Cluster installed with Zingg from pypi\n",
    "2. Zingg jar from the [repo](https://github.com/zinggAI/zingg/releases)\n",
    ", recommended(0.4.0)\n",
    " installed in the cluster library\n",
    "3. tabulate from pypi\n",
    "4. Make sure your databricks cluster is spinned up with runtime version 15.4 LTS\n",
    "5. ~~Input csv file been added to DBFS (example csv can be found at ./examples/febrl/test.csv)~~\n",
    "A volume in Unity Catalog for the zingg data. Example: `/Volumes/main/mike_echevarria/zingg`. Add `test.csv` to that volume\n",
    "\n",
    "Please execute each cell one by one as per the instructions provided.\n",
    "\n",
    "If you face any issue, please [log an issue](https://github.com/zinggAI/zingg/issues)\n",
    "\n",
    "You can also join [Zingg's Slack community](https://join.slack.com/t/zinggai/shared_invite/zt-w7zlcnol-vEuqU9m~Q56kLLUVxRgpOA)"
   ]
  },
  {
   "cell_type": "code",
   "execution_count": 0,
   "metadata": {
    "application/vnd.databricks.v1+cell": {
     "cellMetadata": {
      "byteLimit": 2048000,
      "rowLimit": 10000
     },
     "inputWidgets": {},
     "nuid": "b296c92c-a453-4012-a2b8-5cadb357bc1d",
     "showTitle": false,
     "tableResultSettingsMap": {},
     "title": ""
    }
   },
   "outputs": [],
   "source": [
    "pip install zingg"
   ]
  },
  {
   "cell_type": "code",
   "execution_count": 0,
   "metadata": {
    "application/vnd.databricks.v1+cell": {
     "cellMetadata": {
      "byteLimit": 2048000,
      "rowLimit": 10000
     },
     "inputWidgets": {},
     "nuid": "0874b0ef-c643-4b73-9188-d34f31de4ff2",
     "showTitle": false,
     "tableResultSettingsMap": {},
     "title": ""
    }
   },
   "outputs": [],
   "source": [
    "dbutils.library.restartPython()"
   ]
  },
  {
   "cell_type": "code",
   "execution_count": 0,
   "metadata": {
    "application/vnd.databricks.v1+cell": {
     "cellMetadata": {
      "byteLimit": 2048000,
      "rowLimit": 10000
     },
     "inputWidgets": {},
     "nuid": "b7085240-3a7a-4618-8722-b5db097b96fe",
     "showTitle": false,
     "tableResultSettingsMap": {},
     "title": ""
    }
   },
   "outputs": [],
   "source": [
    "pip show zingg"
   ]
  },
  {
   "cell_type": "code",
   "execution_count": 0,
   "metadata": {
    "application/vnd.databricks.v1+cell": {
     "cellMetadata": {
      "byteLimit": 2048000,
      "rowLimit": 10000
     },
     "inputWidgets": {},
     "nuid": "7bc6173c-6292-4e0e-b027-1a57736b9bc7",
     "showTitle": false,
     "tableResultSettingsMap": {},
     "title": ""
    }
   },
   "outputs": [],
   "source": [
    "pip install tabulate"
   ]
  },
  {
   "cell_type": "code",
   "execution_count": 0,
   "metadata": {
    "application/vnd.databricks.v1+cell": {
     "cellMetadata": {
      "byteLimit": 2048000,
      "rowLimit": 10000
     },
     "inputWidgets": {},
     "nuid": "161b1207-24ff-4943-99d3-a33531f47877",
     "showTitle": false,
     "tableResultSettingsMap": {},
     "title": ""
    }
   },
   "outputs": [],
   "source": [
    "dbutils.library.restartPython()"
   ]
  },
  {
   "cell_type": "code",
   "execution_count": 0,
   "metadata": {
    "application/vnd.databricks.v1+cell": {
     "cellMetadata": {
      "byteLimit": 2048000,
      "rowLimit": 10000
     },
     "inputWidgets": {},
     "nuid": "bddb54f2-2f4b-46df-b636-1f2a2ce31b71",
     "showTitle": false,
     "tableResultSettingsMap": {},
     "title": ""
    }
   },
   "outputs": [],
   "source": [
    "pip show tabulate"
   ]
  },
  {
   "cell_type": "markdown",
   "metadata": {
    "application/vnd.databricks.v1+cell": {
     "cellMetadata": {
      "byteLimit": 2048000,
      "rowLimit": 10000
     },
     "inputWidgets": {},
     "nuid": "db2f411e-d207-4491-be56-dc0017ceed94",
     "showTitle": false,
     "tableResultSettingsMap": {},
     "title": ""
    }
   },
   "source": [
    "# Define locations for the model\n",
    "The Zingg models and training data are persisted in dbfs. \n",
    "\n",
    "**Please edit the model id in the cell below to reflect your model.**"
   ]
  },
  {
   "cell_type": "code",
   "execution_count": 0,
   "metadata": {
    "application/vnd.databricks.v1+cell": {
     "cellMetadata": {
      "byteLimit": 2048000,
      "rowLimit": 10000
     },
     "inputWidgets": {},
     "nuid": "f939d557-3988-443c-a489-c828a93476a4",
     "showTitle": false,
     "tableResultSettingsMap": {},
     "title": ""
    }
   },
   "outputs": [],
   "source": [
    "##you can change these to the locations of your choice\n",
    "##these are the only two settings that need to change\n",
    "#zinggDir = \"/models\"\n",
    "zinggDir = \"/Volumes/main/mike_echevarria/zingg\"\n",
    "modelId = \"testModelFebrl\""
   ]
  },
  {
   "cell_type": "markdown",
   "metadata": {
    "application/vnd.databricks.v1+cell": {
     "cellMetadata": {
      "byteLimit": 2048000,
      "rowLimit": 10000
     },
     "inputWidgets": {},
     "nuid": "9332a078-f480-4972-ac23-22790f6aca20",
     "showTitle": false,
     "tableResultSettingsMap": {},
     "title": ""
    }
   },
   "source": [
    "# Setup common functions for use in Zingg. \n",
    "These functions setup the internal folders used by Zingg, and help with labeling and training Zingg. \n",
    "\n",
    "**No change is needed in the cell below.**"
   ]
  },
  {
   "cell_type": "code",
   "execution_count": 0,
   "metadata": {
    "application/vnd.databricks.v1+cell": {
     "cellMetadata": {
      "byteLimit": 2048000,
      "rowLimit": 10000
     },
     "inputWidgets": {},
     "nuid": "37674bf7-57cc-46b7-8052-1134d9b5c045",
     "showTitle": false,
     "tableResultSettingsMap": {},
     "title": ""
    }
   },
   "outputs": [],
   "source": [
    "\n",
    "##please leave the following unchanged\n",
    "MARKED_DIR = zinggDir + \"/\" + modelId + \"/trainingData/marked/\"\n",
    "UNMARKED_DIR = zinggDir + \"/\" + modelId + \"/trainingData/unmarked/\"\n",
    "\n",
    "#MARKED_DIR_DBFS = \"/dbfs\" + MARKED_DIR\n",
    "#UNMARKED_DIR_DBFS = \"/dbfs\" + UNMARKED_DIR  \n",
    "\n",
    "\n",
    "import pandas as pd\n",
    "import numpy as np\n",
    " \n",
    "import time\n",
    "import uuid\n",
    " \n",
    "from tabulate import tabulate\n",
    "from ipywidgets import widgets, interact, GridspecLayout\n",
    "import base64\n",
    "\n",
    "import pyspark.sql.functions as fn\n",
    "\n",
    "##this code sets up the Zingg Python interface\n",
    "from zingg.client import *\n",
    "from zingg.pipes import *\n",
    "\n",
    "def cleanModel():\n",
    "    dbutils.fs.rm(MARKED_DIR, recurse=True)\n",
    "    # drop unmarked data\n",
    "    dbutils.fs.rm(UNMARKED_DIR, recurse=True)\n",
    "    return\n",
    "\n",
    "# assign label to candidate pair\n",
    "def assign_label(candidate_pairs_pd, z_cluster, label):\n",
    "  '''\n",
    "  The purpose of this function is to assign a label to a candidate pair\n",
    "  identified by its z_cluster value.  Valid labels include:\n",
    "     0 - not matched\n",
    "     1 - matched\n",
    "     2 - uncertain\n",
    "  '''\n",
    "  \n",
    "  # assign label\n",
    "  candidate_pairs_pd.loc[ candidate_pairs_pd['z_cluster']==z_cluster, 'z_isMatch'] = label\n",
    "  \n",
    "  return\n",
    " \n",
    "def count_labeled_pairs(marked_pd):\n",
    "  '''\n",
    "  The purpose of this function is to count the labeled pairs in the marked folder.\n",
    "  '''\n",
    "\n",
    "  n_total = len(np.unique(marked_pd['z_cluster']))\n",
    "  n_positive = len(np.unique(marked_pd[marked_pd['z_isMatch']==1]['z_cluster']))\n",
    "  n_negative = len(np.unique(marked_pd[marked_pd['z_isMatch']==0]['z_cluster']))\n",
    "  \n",
    "  return n_positive, n_negative, n_total\n",
    "\n",
    "# setup widget \n",
    "available_labels = {\n",
    "    'No Match':0,\n",
    "    'Match':1,\n",
    "    'Uncertain':2\n",
    "    }\n",
    "#dbutils.widgets.dropdown('label', 'Uncertain', available_labels.keys(), 'Is this pair a match?')\n",
    "\n",
    "\n"
   ]
  },
  {
   "cell_type": "markdown",
   "metadata": {
    "application/vnd.databricks.v1+cell": {
     "cellMetadata": {
      "byteLimit": 2048000,
      "rowLimit": 10000
     },
     "inputWidgets": {},
     "nuid": "694c8a35-a8fc-48f2-8288-e803631fbfe6",
     "showTitle": false,
     "tableResultSettingsMap": {},
     "title": ""
    }
   },
   "source": [
    "# Start building the Zingg program \n",
    "The following cell sets up the initial arguments for Zingg. \n",
    "\n",
    "**No change is needed in the cell below.**"
   ]
  },
  {
   "cell_type": "code",
   "execution_count": 0,
   "metadata": {
    "application/vnd.databricks.v1+cell": {
     "cellMetadata": {
      "byteLimit": 2048000,
      "rowLimit": 10000
     },
     "inputWidgets": {},
     "nuid": "dcc668a0-3e96-4839-9f53-077f56dd25dc",
     "showTitle": false,
     "tableResultSettingsMap": {},
     "title": ""
    }
   },
   "outputs": [],
   "source": [
    "\n",
    "#build the arguments for zingg\n",
    "args = Arguments()\n",
    "# Set the modelid and the zingg dir. You can use this as is\n",
    "args.setModelId(modelId)\n",
    "args.setZinggDir(zinggDir)\n"
   ]
  },
  {
   "cell_type": "markdown",
   "metadata": {
    "application/vnd.databricks.v1+cell": {
     "cellMetadata": {
      "byteLimit": 2048000,
      "rowLimit": 10000
     },
     "inputWidgets": {},
     "nuid": "7b3eb8bd-d035-413b-84d0-b798e5909335",
     "showTitle": false,
     "tableResultSettingsMap": {},
     "title": ""
    }
   },
   "source": [
    "# Define the input\n",
    "Our data is in csv so we provide a schema. You can choose other formats like parquet by using Pipe with parquet as the format.\n",
    "You can also pass in a dataframe by using a Pipe with the in memory format. \n",
    "Please refer to [Pipes](https://zingg.readthedocs.io/en/latest/zingg.html#zingg.pipes.Pipe) for details on different formats\n",
    "\n",
    "**Please modify this for your data.**"
   ]
  },
  {
   "cell_type": "code",
   "execution_count": 0,
   "metadata": {
    "application/vnd.databricks.v1+cell": {
     "cellMetadata": {
      "byteLimit": 2048000,
      "rowLimit": 10000
     },
     "inputWidgets": {},
     "nuid": "1499f6f7-c9fa-4c95-bc39-7a945cf0758c",
     "showTitle": false,
     "tableResultSettingsMap": {},
     "title": ""
    }
   },
   "outputs": [],
   "source": [
    "input_file=\"/Volumes/main/mike_echevarria/zingg/test.csv\"\n",
    "schema = \"rec_id string, fname string, lname string, stNo string, add1 string, add2 string, city string, areaCode string, state string, dob string, ssn string\"\n",
    "inputPipe = CsvPipe(\"zingg_input\", input_file, schema)\n",
    "\n",
    "args.setData(inputPipe)"
   ]
  },
  {
   "cell_type": "markdown",
   "metadata": {
    "application/vnd.databricks.v1+cell": {
     "cellMetadata": {
      "byteLimit": 2048000,
      "rowLimit": 10000
     },
     "inputWidgets": {},
     "nuid": "c2c76f3d-6104-4014-b605-f0fe5bcc1650",
     "showTitle": false,
     "tableResultSettingsMap": {},
     "title": ""
    }
   },
   "source": [
    "# Configure the output\n",
    "Here we configure the putput to be a csv, but similar to the input above, the output can be a file format like parquet or delta or a data store like MySQL\n",
    "\n",
    "**Please modify this for your data.**"
   ]
  },
  {
   "cell_type": "code",
   "execution_count": 0,
   "metadata": {
    "application/vnd.databricks.v1+cell": {
     "cellMetadata": {
      "byteLimit": 2048000,
      "rowLimit": 10000
     },
     "inputWidgets": {},
     "nuid": "870e64cd-8053-4c76-bfba-3fe5af44adf4",
     "showTitle": false,
     "tableResultSettingsMap": {},
     "title": ""
    }
   },
   "outputs": [],
   "source": [
    "#setting outputpipe in 'args'\n",
    "outputPipe = CsvPipe(\"resultFebrl\", f\"{zinggDir}/febrlOutputTest\")\n",
    "args.setOutput(outputPipe)"
   ]
  },
  {
   "cell_type": "markdown",
   "metadata": {
    "application/vnd.databricks.v1+cell": {
     "cellMetadata": {
      "byteLimit": 2048000,
      "rowLimit": 10000
     },
     "inputWidgets": {},
     "nuid": "98e995ab-fd71-4848-8134-35fabf2ec8c7",
     "showTitle": false,
     "tableResultSettingsMap": {},
     "title": ""
    }
   },
   "source": [
    "# Define the match fields and their types\n",
    "\n",
    "The cell below is used to configure Zingg with the fields for use in matching and the match types.\n",
    "Details on the field definitions can be found at [Zingg official docs](https://www.docs.zingg.ai)\n",
    "\n",
    "**Please modify this for your data.**"
   ]
  },
  {
   "cell_type": "code",
   "execution_count": 0,
   "metadata": {
    "application/vnd.databricks.v1+cell": {
     "cellMetadata": {
      "byteLimit": 2048000,
      "rowLimit": 10000
     },
     "inputWidgets": {},
     "nuid": "e99e237c-7285-4173-91a9-8316fb50f04f",
     "showTitle": false,
     "tableResultSettingsMap": {},
     "title": ""
    }
   },
   "outputs": [],
   "source": [
    "#set field definitions \n",
    "#please change these \n",
    "rec_id = FieldDefinition(\"rec_id\", \"string\", MatchType.DONT_USE) \n",
    "fname = FieldDefinition(\"fname\", \"string\", MatchType.FUZZY)\n",
    "lname = FieldDefinition(\"lname\", \"string\", MatchType.FUZZY)\n",
    "stNo = FieldDefinition(\"stNo\", \"string\", MatchType.FUZZY)\n",
    "add1 = FieldDefinition(\"add1\", \"string\", MatchType.FUZZY)\n",
    "add2 = FieldDefinition(\"add2\", \"string\", MatchType.FUZZY)\n",
    "city = FieldDefinition(\"city\", \"string\", MatchType.FUZZY)\n",
    "areaCode = FieldDefinition(\"areaCode\", \"string\", MatchType.FUZZY)\n",
    "state = FieldDefinition(\"state\", \"string\", MatchType.FUZZY)\n",
    "dob = FieldDefinition(\"dob\", \"string\", MatchType.EXACT)\n",
    "ssn = FieldDefinition(\"ssn\", \"string\", MatchType.EXACT) \n",
    "\n",
    "fieldDefs = [rec_id, fname, lname, stNo, add1, add2, city, areaCode, state, dob, ssn]\n",
    "args.setFieldDefinition(fieldDefs)"
   ]
  },
  {
   "cell_type": "markdown",
   "metadata": {
    "application/vnd.databricks.v1+cell": {
     "cellMetadata": {
      "byteLimit": 2048000,
      "rowLimit": 10000
     },
     "inputWidgets": {},
     "nuid": "5cecfe15-fe77-4ef3-bde4-818350c0e0bf",
     "showTitle": false,
     "tableResultSettingsMap": {},
     "title": ""
    }
   },
   "source": [
    "# Performance settings\n",
    "\n",
    "The numPartitions define how data is split across the cluster. Please change this as per your data and cluster size by referring to the performance section of the Zingg docs.\n",
    "The labelDataSampleSize is used for sampling in findTrainingData. It lets Zingg select pairs for labeling in a reasonable amount of time. \n",
    "If the findTrainingData phase is taking to much time, please reduce this by atleast 1/10th of its previous value and try again.\n",
    "\n",
    "**Please modify this for your data.**"
   ]
  },
  {
   "cell_type": "code",
   "execution_count": 0,
   "metadata": {
    "application/vnd.databricks.v1+cell": {
     "cellMetadata": {
      "byteLimit": 2048000,
      "rowLimit": 10000
     },
     "inputWidgets": {},
     "nuid": "7841d2ef-c067-45bd-9522-6f318958ed56",
     "showTitle": false,
     "tableResultSettingsMap": {},
     "title": ""
    }
   },
   "outputs": [],
   "source": [
    "\n",
    "# The numPartitions define how data is split across the cluster. \n",
    "# Please change the fllowing as per your data and cluster size by referring to the docs.\n",
    "\n",
    "args.setNumPartitions(4)\n",
    "args.setLabelDataSampleSize(0.5)\n",
    "\n"
   ]
  },
  {
   "cell_type": "markdown",
   "metadata": {
    "application/vnd.databricks.v1+cell": {
     "cellMetadata": {
      "byteLimit": 2048000,
      "rowLimit": 10000
     },
     "inputWidgets": {},
     "nuid": "241243b3-1536-467d-89a6-80698e8c57ec",
     "showTitle": false,
     "tableResultSettingsMap": {},
     "title": ""
    }
   },
   "source": [
    "# Get Zingg to find pairs for user labeling\n",
    "**No change is needed in the cell below.**"
   ]
  },
  {
   "cell_type": "code",
   "execution_count": 0,
   "metadata": {
    "application/vnd.databricks.v1+cell": {
     "cellMetadata": {
      "byteLimit": 2048000,
      "rowLimit": 10000
     },
     "inputWidgets": {},
     "nuid": "9747d72e-3330-4b7c-9e60-0e91684eaa3f",
     "showTitle": false,
     "tableResultSettingsMap": {},
     "title": ""
    }
   },
   "outputs": [],
   "source": [
    "options = ClientOptions([ClientOptions.PHASE,\"findTrainingData\"])\n",
    "\n",
    "#Zingg execution for the given phase\n",
    "zingg = ZinggWithSpark(args, options)\n",
    "zingg.initAndExecute()"
   ]
  },
  {
   "cell_type": "markdown",
   "metadata": {
    "application/vnd.databricks.v1+cell": {
     "cellMetadata": {
      "byteLimit": 2048000,
      "rowLimit": 10000
     },
     "inputWidgets": {},
     "nuid": "ca70c641-196a-4d17-b14d-43e551aa12c3",
     "showTitle": false,
     "tableResultSettingsMap": {},
     "title": ""
    }
   },
   "source": [
    "# Prepare for user labeling\n",
    "**No change is needed in the cell below.**"
   ]
  },
  {
   "cell_type": "code",
   "execution_count": 0,
   "metadata": {
    "application/vnd.databricks.v1+cell": {
     "cellMetadata": {
      "byteLimit": 2048000,
      "rowLimit": 10000
     },
     "inputWidgets": {},
     "nuid": "25077a5c-1a23-4110-ac7f-819765047839",
     "showTitle": false,
     "tableResultSettingsMap": {},
     "title": ""
    }
   },
   "outputs": [],
   "source": [
    "options = ClientOptions([ClientOptions.PHASE,\"label\"])\n",
    "\n",
    "#Zingg execution for the given phase\n",
    "zingg = ZinggWithSpark(args, options)\n",
    "zingg.init()"
   ]
  },
  {
   "cell_type": "markdown",
   "metadata": {
    "application/vnd.databricks.v1+cell": {
     "cellMetadata": {
      "byteLimit": 2048000,
      "rowLimit": 10000
     },
     "inputWidgets": {},
     "nuid": "25156ca6-6fe9-4223-b35b-182c371e9c89",
     "showTitle": false,
     "tableResultSettingsMap": {},
     "title": ""
    }
   },
   "source": [
    "# See if we have records for labeling\n",
    "\n",
    "**No change is needed to the cell below.**"
   ]
  },
  {
   "cell_type": "code",
   "execution_count": 0,
   "metadata": {
    "application/vnd.databricks.v1+cell": {
     "cellMetadata": {
      "byteLimit": 2048000,
      "rowLimit": 10000
     },
     "inputWidgets": {},
     "nuid": "4039051c-1d31-4373-8d53-3955e76b5bba",
     "showTitle": false,
     "tableResultSettingsMap": {},
     "title": ""
    }
   },
   "outputs": [],
   "source": [
    "# get candidate pairs\n",
    "candidate_pairs_pd = getPandasDfFromDs(zingg.getUnmarkedRecords())\n",
    " \n",
    "# if no candidate pairs, run job and wait\n",
    "if candidate_pairs_pd.shape[0] == 0:\n",
    "  print('No unlabeled candidate pairs found.  Run findTraining job ...')\n",
    "\n",
    "else:\n",
    "    # get list of pairs (as identified by z_cluster) to label \n",
    "    z_clusters = list(np.unique(candidate_pairs_pd['z_cluster'])) \n",
    "\n",
    "    # identify last reviewed cluster\n",
    "    last_z_cluster = '' # none yet\n",
    "\n",
    "    # print candidate pair stats\n",
    "    print('{0} candidate pairs found for labeling'.format(len(z_clusters)))\n",
    "  "
   ]
  },
  {
   "cell_type": "markdown",
   "metadata": {
    "application/vnd.databricks.v1+cell": {
     "cellMetadata": {
      "byteLimit": 2048000,
      "rowLimit": 10000
     },
     "inputWidgets": {},
     "nuid": "5b061b19-c2c2-44c8-bc10-716283c48098",
     "showTitle": false,
     "tableResultSettingsMap": {},
     "title": ""
    }
   },
   "source": [
    "# Start labeling to make Zingg learn how we want to match our data\n",
    "\n",
    "**No change is needed to the cell below.**"
   ]
  },
  {
   "cell_type": "code",
   "execution_count": 0,
   "metadata": {
    "application/vnd.databricks.v1+cell": {
     "cellMetadata": {
      "byteLimit": 2048000,
      "rowLimit": 10000
     },
     "inputWidgets": {},
     "nuid": "1d8e5ecf-99dd-4ee1-9dee-5336a27e5746",
     "showTitle": false,
     "tableResultSettingsMap": {},
     "title": ""
    }
   },
   "outputs": [],
   "source": [
    "# Label Training Set\n",
    "\n",
    "# define variable to avoid duplicate saves\n",
    "ready_for_save = False\n",
    "print(candidate_pairs_pd)\n",
    "\n",
    "# user-friendly labels and corresponding zingg numerical value\n",
    "# (the order in the dictionary affects how displayed below)\n",
    "LABELS = {\n",
    "  'Uncertain':2,\n",
    "  'Match':1,\n",
    "  'No Match':0  \n",
    "  }\n",
    "\n",
    "# GET CANDIDATE PAIRS\n",
    "# ========================================================\n",
    "#candidate_pairs_pd = get_candidate_pairs()\n",
    "n_pairs = int(candidate_pairs_pd.shape[0]/2)\n",
    "# ========================================================\n",
    "\n",
    "# DEFINE IPYWIDGET DISPLAY\n",
    "# ========================================================\n",
    "display_pd = candidate_pairs_pd.drop(\n",
    "  labels=[\n",
    "    'z_zid', 'z_prediction', 'z_score', 'z_isMatch', 'z_zsource'\n",
    "    ], \n",
    "  axis=1)\n",
    "\n",
    "# define header to be used with each displayed pair\n",
    "html_prefix = \"<p><span style='font-family:Courier New,Courier,monospace'>\"\n",
    "html_suffix = \"</p></span>\"\n",
    "header = widgets.HTML(value=f\"{html_prefix}<b>\" + \"<br />\".join([str(i)+\"&nbsp;&nbsp;\" for i in display_pd.columns.to_list()]) + f\"</b>{html_suffix}\")\n",
    "\n",
    "# initialize display\n",
    "vContainers = []\n",
    "vContainers.append(widgets.HTML(value=f'<h2>Indicate if each of the {n_pairs} record pairs is a match or not</h2></p>'))\n",
    "\n",
    "# for each set of pairs\n",
    "for n in range(n_pairs):\n",
    "\n",
    "  # get candidate records\n",
    "  candidate_left = display_pd.loc[2*n].to_list()\n",
    "  print(candidate_left)\n",
    "  candidate_right = display_pd.loc[(2*n)+1].to_list()\n",
    "  print(candidate_right)\n",
    "\n",
    "  # define grid to hold values\n",
    "  html = ''\n",
    "\n",
    "  for i in range(display_pd.shape[1]):\n",
    "\n",
    "    # get column name\n",
    "    column_name = display_pd.columns[i]\n",
    "\n",
    "    # if field is image\n",
    "    if column_name == 'image_path':\n",
    "\n",
    "      # define row header\n",
    "      html += '<tr>'\n",
    "      html += '<td><b>image</b></td>'\n",
    "\n",
    "      # read left image to encoded string\n",
    "      l_endcode = ''\n",
    "      if candidate_left[i] != '':\n",
    "        with open(candidate_left[i], \"rb\") as l_file:\n",
    "          l_encode = base64.b64encode( l_file.read() ).decode()\n",
    "\n",
    "      # read right image to encoded string\n",
    "      r_encode = ''\n",
    "      if candidate_right[i] != '':\n",
    "        with open(candidate_right[i], \"rb\") as r_file:\n",
    "          r_encode = base64.b64encode( r_file.read() ).decode()      \n",
    "\n",
    "      # present images\n",
    "      html += f'<td><img src=\"data:image/png;base64,{l_encode}\"></td>'\n",
    "      html += f'<td><img src=\"data:image/png;base64,{r_encode}\"></td>'\n",
    "      html += '</tr>'\n",
    "\n",
    "    elif column_name != 'image_path':  # display text values\n",
    "\n",
    "      if column_name == 'z_cluster': z_cluster = candidate_left[i]\n",
    "\n",
    "      html += '<tr>'\n",
    "      html += f'<td style=\"width:10%\"><b>{column_name}</b></td>'\n",
    "      html += f'<td style=\"width:45%\">{str(candidate_left[i])}</td>'\n",
    "      html += f'<td style=\"width:45%\">{str(candidate_right[i])}</td>'\n",
    "      html += '</tr>'\n",
    "\n",
    "  # insert data table\n",
    "  table = widgets.HTML(value=f'<table data-title=\"{z_cluster}\" style=\"width:100%;border-collapse:collapse\" border=\"1\">'+html+'</table>')\n",
    "  z_cluster = None\n",
    "\n",
    "  # assign label options to pair\n",
    "  label = widgets.ToggleButtons(\n",
    "    options=LABELS.keys(), \n",
    "    button_style='info'\n",
    "    )\n",
    "\n",
    "  # define blank line between displayed pair and next\n",
    "  blankLine=widgets.HTML(value='<br>')\n",
    "\n",
    "  # append pair, label and blank line to widget structure\n",
    "  vContainers.append(widgets.VBox(children=[table, label, blankLine]))\n",
    "\n",
    "# present widget\n",
    "display(widgets.VBox(children=vContainers))\n",
    "# ========================================================\n",
    "\n",
    "# mark flag to allow save \n",
    "ready_for_save = True\n"
   ]
  },
  {
   "cell_type": "markdown",
   "metadata": {
    "application/vnd.databricks.v1+cell": {
     "cellMetadata": {
      "byteLimit": 2048000,
      "rowLimit": 10000
     },
     "inputWidgets": {},
     "nuid": "a9d4a8fd-3ec8-40f9-86ed-4a58cb65d13d",
     "showTitle": false,
     "tableResultSettingsMap": {},
     "title": ""
    }
   },
   "source": [
    "# Save all the labels provided by the user \n",
    "No change is needed to the cell below."
   ]
  },
  {
   "cell_type": "code",
   "execution_count": 0,
   "metadata": {
    "application/vnd.databricks.v1+cell": {
     "cellMetadata": {
      "byteLimit": 2048000,
      "rowLimit": 10000
     },
     "inputWidgets": {},
     "nuid": "c420e4b2-d221-46d4-8242-5044becb8d7e",
     "showTitle": false,
     "tableResultSettingsMap": {},
     "title": ""
    }
   },
   "outputs": [],
   "source": [
    "if not ready_for_save:\n",
    "  print('No labels have been assigned. Run the previous cell to create candidate pairs and assign labels to them before re-running this cell.')\n",
    "\n",
    "else:\n",
    "\n",
    "  # ASSIGN LABEL VALUE TO CANDIDATE PAIRS IN DATAFRAME\n",
    "  # ========================================================\n",
    "  # for each pair in displayed widget\n",
    "  for pair in vContainers[1:]:\n",
    "\n",
    "    # get pair and assigned label\n",
    "    html_content = pair.children[1].get_interact_value() # the displayed pair as html\n",
    "    user_assigned_label = pair.children[1].get_interact_value() # the assigned label\n",
    "\n",
    "    # extract candidate pair id from html pair content\n",
    "    start = pair.children[0].value.find('data-title=\"')\n",
    "    if start > 0: \n",
    "      start += len('data-title=\"') \n",
    "      end = pair.children[0].value.find('\"', start+2)\n",
    "    pair_id = pair.children[0].value[start:end]\n",
    "\n",
    "\n",
    "\n",
    "    # assign label to candidate pair entry in dataframe\n",
    "    candidate_pairs_pd.loc[candidate_pairs_pd['z_cluster']==pair_id, 'z_isMatch'] = LABELS.get(user_assigned_label)\n",
    "  # ========================================================\n",
    "\n",
    "  # SAVE LABELED DATA TO ZINGG FOLDER\n",
    "  # ========================================================\n",
    "  # make target directory if needed\n",
    "  dbutils.fs.mkdirs(MARKED_DIR)\n",
    "  \n",
    "  # save label assignments\n",
    "  # save labels\n",
    "  zingg.writeLabelledOutputFromPandas(candidate_pairs_pd,args)\n",
    "\n",
    "  # count labels accumulated\n",
    "  marked_pd_df = getPandasDfFromDs(zingg.getMarkedRecords())\n",
    "  n_pos, n_neg, n_tot = count_labeled_pairs(marked_pd_df)\n",
    "  print(f'You have accumulated {n_pos} pairs labeled as positive matches.')\n",
    "  print(f'You have accumulated {n_neg} pairs labeled as not matches.')\n",
    "  print(\"If you need more pairs to label, re-run the cell for 'findTrainingData'\")\n",
    "  # ========================================================  \n",
    "\n",
    "  # save completed\n",
    "  ready_for_save = False"
   ]
  },
  {
   "cell_type": "code",
   "execution_count": 0,
   "metadata": {
    "application/vnd.databricks.v1+cell": {
     "cellMetadata": {
      "byteLimit": 2048000,
      "rowLimit": 10000
     },
     "inputWidgets": {},
     "nuid": "5b75993a-d02c-4542-8ddb-dec2440d14e3",
     "showTitle": false,
     "tableResultSettingsMap": {},
     "title": ""
    }
   },
   "outputs": [],
   "source": []
  },
  {
   "cell_type": "markdown",
   "metadata": {
    "application/vnd.databricks.v1+cell": {
     "cellMetadata": {
      "byteLimit": 2048000,
      "rowLimit": 10000
     },
     "inputWidgets": {},
     "nuid": "4c6a7266-658c-4705-9a49-2bb99dcadfe9",
     "showTitle": false,
     "tableResultSettingsMap": {},
     "title": ""
    }
   },
   "source": [
    "# Persist the Zingg models by training on the labels and run them to predict matches\n",
    "No change is needed to the cell below."
   ]
  },
  {
   "cell_type": "code",
   "execution_count": 0,
   "metadata": {
    "application/vnd.databricks.v1+cell": {
     "cellMetadata": {
      "byteLimit": 2048000,
      "rowLimit": 10000
     },
     "inputWidgets": {},
     "nuid": "eea6f5f8-12a3-4fbf-be9b-828dbc0e4e62",
     "showTitle": false,
     "tableResultSettingsMap": {},
     "title": ""
    }
   },
   "outputs": [],
   "source": [
    "options = ClientOptions([ClientOptions.PHASE,\"trainMatch\"])\n",
    "\n",
    "#Zingg execution for the given phase\n",
    "zingg = ZinggWithSpark(args, options)\n",
    "zingg.initAndExecute()"
   ]
  },
  {
   "cell_type": "markdown",
   "metadata": {
    "application/vnd.databricks.v1+cell": {
     "cellMetadata": {
      "byteLimit": 2048000,
      "rowLimit": 10000
     },
     "inputWidgets": {},
     "nuid": "d15cba22-baa5-4632-9902-39f8ff7bcabb",
     "showTitle": false,
     "tableResultSettingsMap": {},
     "title": ""
    }
   },
   "source": [
    "# Voila! We are done. Lets check the results. \n",
    "\n",
    "**No change is needed to the cell below.**"
   ]
  },
  {
   "cell_type": "code",
   "execution_count": 0,
   "metadata": {
    "application/vnd.databricks.v1+cell": {
     "cellMetadata": {
      "byteLimit": 2048000,
      "rowLimit": 10000
     },
     "inputWidgets": {},
     "nuid": "535490e1-a62d-4efb-a2c8-91cf3dcd31ba",
     "showTitle": false,
     "tableResultSettingsMap": {},
     "title": ""
    }
   },
   "outputs": [],
   "source": [
    "outputDF = spark.read.csv(f\"{zinggDir}/febrlOutputTest\")"
   ]
  },
  {
   "cell_type": "code",
   "execution_count": 0,
   "metadata": {
    "application/vnd.databricks.v1+cell": {
     "cellMetadata": {
      "byteLimit": 2048000,
      "rowLimit": 10000
     },
     "inputWidgets": {},
     "nuid": "ce5516ed-ee36-4007-89b5-e54d488fed9b",
     "showTitle": false,
     "tableResultSettingsMap": {},
     "title": ""
    }
   },
   "outputs": [],
   "source": [
    "\n",
    "colNames = [\"z_minScore\", \"z_maxScore\", \"z_cluster\", \"rec_id\", \"fname\", \"lname\", \"stNo\", \"add1\", \"add2\", \"city\", \"areaCode\", \"state\", \"dob\", \"ssn\"]\n",
    "outputDF.toDF(*colNames).show(100)"
   ]
  },
  {
   "cell_type": "code",
   "execution_count": 0,
   "metadata": {
    "application/vnd.databricks.v1+cell": {
     "cellMetadata": {
      "byteLimit": 2048000,
      "rowLimit": 10000
     },
     "inputWidgets": {},
     "nuid": "8d1ee2cf-1dba-41a9-a486-5c812f6e221d",
     "showTitle": false,
     "tableResultSettingsMap": {},
     "title": ""
    }
   },
   "outputs": [],
   "source": [
    "options = ClientOptions([ClientOptions.PHASE,\"generateDocs\"])\n",
    "\n",
    "#Zingg execution for the given phase\n",
    "zingg = ZinggWithSpark(args, options)\n",
    "zingg.initAndExecute()"
   ]
  },
  {
   "cell_type": "code",
   "execution_count": 0,
   "metadata": {
    "application/vnd.databricks.v1+cell": {
     "cellMetadata": {
      "byteLimit": 2048000,
      "rowLimit": 10000
     },
     "inputWidgets": {},
     "nuid": "57b08a8d-a9a2-4500-b970-fd13f8cac44c",
     "showTitle": false,
     "tableResultSettingsMap": {},
     "title": ""
    }
   },
   "outputs": [],
   "source": [
    "DOCS_DIR = zinggDir + \"/\" + modelId + \"/docs/\""
   ]
  },
  {
   "cell_type": "code",
   "execution_count": 0,
   "metadata": {
    "application/vnd.databricks.v1+cell": {
     "cellMetadata": {
      "byteLimit": 2048000,
      "rowLimit": 10000
     },
     "inputWidgets": {},
     "nuid": "4ae05c52-a7c9-4030-865d-7031de977d33",
     "showTitle": false,
     "tableResultSettingsMap": {},
     "title": ""
    }
   },
   "outputs": [],
   "source": [
    "# check that docs succesfully generated\n",
    "dbutils.fs.ls('file:'+DOCS_DIR)"
   ]
  },
  {
   "cell_type": "code",
   "execution_count": 0,
   "metadata": {
    "application/vnd.databricks.v1+cell": {
     "cellMetadata": {
      "byteLimit": 2048000,
      "rowLimit": 10000
     },
     "inputWidgets": {},
     "nuid": "41bbf67c-f576-4075-972d-2fa51ed62528",
     "showTitle": false,
     "tableResultSettingsMap": {},
     "title": ""
    }
   },
   "outputs": [],
   "source": [
    "displayHTML(open(DOCS_DIR+\"model.html\", 'r').read())"
   ]
  },
  {
   "cell_type": "code",
   "execution_count": 0,
   "metadata": {
    "application/vnd.databricks.v1+cell": {
     "cellMetadata": {
      "byteLimit": 2048000,
      "rowLimit": 10000
     },
     "inputWidgets": {},
     "nuid": "e5bf9f88-df8a-4e5d-aebb-43ed4db2ec9b",
     "showTitle": false,
     "tableResultSettingsMap": {},
     "title": ""
    }
   },
   "outputs": [],
   "source": [
    "displayHTML(open(DOCS_DIR+\"data.html\", 'r').read())"
   ]
  },
  {
   "cell_type": "markdown",
   "metadata": {
    "application/vnd.databricks.v1+cell": {
     "cellMetadata": {
      "byteLimit": 2048000,
      "rowLimit": 10000
     },
     "inputWidgets": {},
     "nuid": "b52238e9-969e-4761-bb14-43cf264b5770",
     "showTitle": false,
     "tableResultSettingsMap": {},
     "title": ""
    }
   },
   "source": [
    "# Improve accuracy - ask Zingg to recommend stopwords for a particular column. \n",
    "These are common occuring words like pvt, ltd etc which occur across a lot of rows and do not add any meaning to the matching. You can read more about hese at [the Zingg docs](https://docs.zingg.ai/zingg-0.4.0/improving-accuracy/stopwordsremoval)\n",
    "\n",
    "**In the following cell, we are asking for recommendations for the city column. Please edit as per your needs**"
   ]
  },
  {
   "cell_type": "code",
   "execution_count": 0,
   "metadata": {
    "application/vnd.databricks.v1+cell": {
     "cellMetadata": {
      "byteLimit": 2048000,
      "rowLimit": 10000
     },
     "inputWidgets": {},
     "nuid": "cbd44d6b-fc9a-4505-a47a-8b862ac2e701",
     "showTitle": false,
     "tableResultSettingsMap": {},
     "title": ""
    }
   },
   "outputs": [],
   "source": [
    "options = ClientOptions([ClientOptions.PHASE,\"recommend\", \"--column\", \"city\"])\n",
    "args.setStopWordsCutoff(0.5)\n",
    "#Zingg execution for the given phase\n",
    "zingg = ZinggWithSpark(args, options)\n",
    "zingg.initAndExecute()"
   ]
  },
  {
   "cell_type": "markdown",
   "metadata": {
    "application/vnd.databricks.v1+cell": {
     "cellMetadata": {
      "byteLimit": 2048000,
      "rowLimit": 10000
     },
     "inputWidgets": {},
     "nuid": "06db7e96-7ba5-430d-88bf-24e51ef4b481",
     "showTitle": false,
     "tableResultSettingsMap": {},
     "title": ""
    }
   },
   "source": [
    "# View recommendations and configure them in the Zingg arguments.\n",
    "\n",
    "Please check the FieldDefinition's setStopWords() method to set the stop words for each field\n",
    "\n",
    "**We are using the recommendations as is, but you can massage the values, add or remove words that matter to the dataset to get the best results**"
   ]
  },
  {
   "cell_type": "code",
   "execution_count": 0,
   "metadata": {
    "application/vnd.databricks.v1+cell": {
     "cellMetadata": {
      "byteLimit": 2048000,
      "rowLimit": 10000
     },
     "inputWidgets": {},
     "nuid": "5a5d598c-de2f-4182-bf3c-f6727ad4c1b6",
     "showTitle": false,
     "tableResultSettingsMap": {},
     "title": ""
    }
   },
   "outputs": [],
   "source": [
    "#dbutils.fs.ls(zinggDir+\"/\"+modelId+\"/stopWords\")\n",
    "stopwordsForCity = spark.read.csv(zinggDir+\"/\"+modelId+\"/stopWords/city\")\n",
    "stopwordsForCity.show()"
   ]
  },
  {
   "cell_type": "code",
   "execution_count": 0,
   "metadata": {
    "application/vnd.databricks.v1+cell": {
     "cellMetadata": {
      "byteLimit": 2048000,
      "rowLimit": 10000
     },
     "inputWidgets": {},
     "nuid": "c2c32192-da21-4e9e-b430-ce96e3fd314b",
     "showTitle": false,
     "tableResultSettingsMap": {},
     "title": ""
    }
   },
   "outputs": [],
   "source": []
  },
  {
   "cell_type": "code",
   "execution_count": 0,
   "metadata": {
    "application/vnd.databricks.v1+cell": {
     "cellMetadata": {
      "byteLimit": 2048000,
      "rowLimit": 10000
     },
     "inputWidgets": {},
     "nuid": "c7a11a72-e540-4e04-88bf-3b3071e5565a",
     "showTitle": false,
     "tableResultSettingsMap": {},
     "title": ""
    }
   },
   "outputs": [],
   "source": []
  }
 ],
 "metadata": {
  "application/vnd.databricks.v1+notebook": {
   "computePreferences": null,
   "dashboards": [],
   "environmentMetadata": null,
   "language": "python",
   "notebookMetadata": {
    "pythonIndentUnit": 4
   },
   "notebookName": "Zingg-Example",
   "widgets": {}
  },
  "language_info": {
   "name": "python"
  }
 },
 "nbformat": 4,
 "nbformat_minor": 0
}
